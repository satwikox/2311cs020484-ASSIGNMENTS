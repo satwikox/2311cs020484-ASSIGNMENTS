{
 "cells": [
  {
   "cell_type": "code",
   "execution_count": 7,
   "id": "741aecc6-b99b-4c00-92b5-f0a73ed0a032",
   "metadata": {},
   "outputs": [
    {
     "name": "stdout",
     "output_type": "stream",
     "text": [
      "First element: 10\n",
      "Second element: 20\n",
      "Last element: 50\n"
     ]
    }
   ],
   "source": [
    "# Creating a List with 5 elements\n",
    "my_list = [10, 20, 30, 40, 50]\n",
    "\n",
    "# Accessing elements by index\n",
    "first_element = my_list[0]  # Accessing the first element (index 0)\n",
    "second_element = my_list[1] # Accessing the second element (index 1)\n",
    "last_element = my_list[-1]  # Accessing the last element using negative index\n",
    "\n",
    "print(\"First element:\", first_element)\n",
    "print(\"Second element:\", second_element)\n",
    "print(\"Last element:\", last_element)\n"
   ]
  },
  {
   "cell_type": "code",
   "execution_count": 9,
   "id": "915d04b6-8757-4074-b62f-0d3412d560c1",
   "metadata": {},
   "outputs": [
    {
     "name": "stdout",
     "output_type": "stream",
     "text": [
      "Third element: 3\n",
      "Fourth element: 4\n",
      "Second last element: 4\n"
     ]
    }
   ],
   "source": [
    "# Creating a Tuple with 5 elements\n",
    "my_tuple = (1, 2, 3, 4, 5)\n",
    "\n",
    "# Accessing elements by index\n",
    "third_element = my_tuple[2]  # Accessing the third element (index 2)\n",
    "fourth_element = my_tuple[3] # Accessing the fourth element (index 3)\n",
    "second_last_element = my_tuple[-2]  # Accessing the second last element\n",
    "\n",
    "print(\"Third element:\", third_element)\n",
    "print(\"Fourth element:\", fourth_element)\n",
    "print(\"Second last element:\", second_last_element)\n"
   ]
  },
  {
   "cell_type": "code",
   "execution_count": 11,
   "id": "1e9d078e-e962-4a67-929a-f28c99605f5c",
   "metadata": {},
   "outputs": [
    {
     "name": "stdout",
     "output_type": "stream",
     "text": [
      "Name: John\n",
      "City: New York\n",
      "All keys: ['name', 'age', 'city', 'job', 'country']\n",
      "All values: ['John', 30, 'New York', 'Developer', 'USA']\n"
     ]
    }
   ],
   "source": [
    "# Creating a Dictionary with 5 elements\n",
    "my_dict = {\n",
    "    \"name\": \"John\",\n",
    "    \"age\": 30,\n",
    "    \"city\": \"New York\",\n",
    "    \"job\": \"Developer\",\n",
    "    \"country\": \"USA\"\n",
    "}\n",
    "\n",
    "# Accessing values by key\n",
    "name_value = my_dict[\"name\"]  # Accessing value of key \"name\"\n",
    "city_value = my_dict[\"city\"]  # Accessing value of key \"city\"\n",
    "\n",
    "# Accessing all keys or values using methods\n",
    "keys = my_dict.keys()  # All keys in the dictionary\n",
    "values = my_dict.values()  # All values in the dictionary\n",
    "\n",
    "print(\"Name:\", name_value)\n",
    "print(\"City:\", city_value)\n",
    "print(\"All keys:\", list(keys))\n",
    "print(\"All values:\", list(values))\n"
   ]
  },
  {
   "cell_type": "code",
   "execution_count": null,
   "id": "b56ec6ba-69b3-41e8-9b74-e1b0467b3960",
   "metadata": {},
   "outputs": [],
   "source": []
  }
 ],
 "metadata": {
  "kernelspec": {
   "display_name": "Python [conda env:base] *",
   "language": "python",
   "name": "conda-base-py"
  },
  "language_info": {
   "codemirror_mode": {
    "name": "ipython",
    "version": 3
   },
   "file_extension": ".py",
   "mimetype": "text/x-python",
   "name": "python",
   "nbconvert_exporter": "python",
   "pygments_lexer": "ipython3",
   "version": "3.12.7"
  }
 },
 "nbformat": 4,
 "nbformat_minor": 5
}
