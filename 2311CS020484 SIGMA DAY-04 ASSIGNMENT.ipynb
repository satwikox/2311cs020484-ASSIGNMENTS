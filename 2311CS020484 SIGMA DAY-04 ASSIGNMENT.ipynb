{
 "cells": [
  {
   "cell_type": "code",
   "execution_count": 3,
   "id": "431860f9-8049-48ff-97ac-88ad0b4afa8e",
   "metadata": {},
   "outputs": [
    {
     "name": "stdin",
     "output_type": "stream",
     "text": [
      "Enter a positive integer:  85\n"
     ]
    },
    {
     "name": "stdout",
     "output_type": "stream",
     "text": [
      "The sum of all even numbers is: 1806\n"
     ]
    }
   ],
   "source": [
    "def sum_of_evens(n):\n",
    "    total_sum = 0\n",
    "    for i in range(1, n+1):\n",
    "        if i % 2 == 0:\n",
    "            total_sum += i\n",
    "    return total_sum\n",
    "\n",
    "n = int(input(\"Enter a positive integer: \"))\n",
    "print(\"The sum of all even numbers is:\", sum_of_evens(n))\n"
   ]
  },
  {
   "cell_type": "code",
   "execution_count": null,
   "id": "50e68818-da54-449c-a25d-00f37020cdc4",
   "metadata": {},
   "outputs": [],
   "source": []
  }
 ],
 "metadata": {
  "kernelspec": {
   "display_name": "Python [conda env:base] *",
   "language": "python",
   "name": "conda-base-py"
  },
  "language_info": {
   "codemirror_mode": {
    "name": "ipython",
    "version": 3
   },
   "file_extension": ".py",
   "mimetype": "text/x-python",
   "name": "python",
   "nbconvert_exporter": "python",
   "pygments_lexer": "ipython3",
   "version": "3.12.7"
  }
 },
 "nbformat": 4,
 "nbformat_minor": 5
}
