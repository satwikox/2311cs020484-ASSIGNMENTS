{
 "cells": [
  {
   "cell_type": "markdown",
   "id": "96c4678d-de97-4e64-92fc-b396c36102e6",
   "metadata": {},
   "source": [
    "## ASSIGNMENT-01"
   ]
  },
  {
   "cell_type": "code",
   "execution_count": 2,
   "id": "7697d9a1-6442-4a76-a9d8-d63cf1c516f5",
   "metadata": {},
   "outputs": [],
   "source": [
    "import pandas as pd"
   ]
  },
  {
   "cell_type": "code",
   "execution_count": 6,
   "id": "c3418521-dd59-4c5a-8bb1-9d5a99d89dcc",
   "metadata": {},
   "outputs": [],
   "source": [
    "fp='C:/Users/ADMIN/Downloads/Day_11_banking_data.csv'\n",
    "banking_data=pd.read_csv(fp)"
   ]
  },
  {
   "cell_type": "code",
   "execution_count": 8,
   "id": "ce351f50-a1b9-4a6f-acd9-f144a5f77e8d",
   "metadata": {},
   "outputs": [
    {
     "name": "stdout",
     "output_type": "stream",
     "text": [
      "Top 10 rows sorted by Account_Balance (descending):\n",
      "          Date       Account_Type    Branch Transaction_Type  \\\n",
      "15  2023-01-03            Savings  Suburban   Service Charge   \n",
      "8   2023-01-20  Recurring Deposit  Downtown   Service Charge   \n",
      "2   2023-01-10            Current    Uptown     Loan Payment   \n",
      "7   2023-01-09            Current   Central     Loan Payment   \n",
      "17  2023-01-07            Current   Central     Loan Payment   \n",
      "1   2023-01-16            Current    Uptown       Withdrawal   \n",
      "19  2023-01-17            Savings   Central          Deposit   \n",
      "18  2023-01-12  Recurring Deposit  Suburban   Service Charge   \n",
      "16  2023-01-02      Fixed Deposit   Central          Deposit   \n",
      "14  2023-01-01      Fixed Deposit  Downtown       Withdrawal   \n",
      "\n",
      "    Transaction_Amount  Account_Balance  \n",
      "15             3350.32         12836.51  \n",
      "8              3899.98         12646.56  \n",
      "2              3363.85         12428.67  \n",
      "7              2346.72         10708.85  \n",
      "17             4116.52          9785.64  \n",
      "1               641.43          8908.39  \n",
      "19             4516.52          8789.19  \n",
      "18             1339.57          8666.74  \n",
      "16             4421.57          8330.40  \n",
      "14             4136.54          8175.08  \n"
     ]
    }
   ],
   "source": [
    "# Sort the dataset by Account_Balance in descending order and display the first 10 rows\n",
    "sorted_data = banking_data.sort_values(by='Account_Balance', ascending=False)\n",
    "print(\"Top 10 rows sorted by Account_Balance (descending):\")\n",
    "print(sorted_data.head(10))"
   ]
  },
  {
   "cell_type": "code",
   "execution_count": 12,
   "id": "c4e6b886-5927-4524-8149-986ec93d7835",
   "metadata": {},
   "outputs": [
    {
     "name": "stdout",
     "output_type": "stream",
     "text": [
      "\n",
      "Dataset with Transaction_Rank within each Branch:\n",
      "      Branch  Transaction_Amount  Transaction_Rank\n",
      "0    Central              985.51               7.0\n",
      "1     Uptown              641.43               4.0\n",
      "2     Uptown             3363.85               1.0\n",
      "3     Uptown             1914.60               2.0\n",
      "4   Suburban             2788.57               3.0\n",
      "5   Suburban             4584.05               1.0\n",
      "6    Central             1621.82               6.0\n",
      "7    Central             2346.72               5.0\n",
      "8   Downtown             3899.98               2.0\n",
      "9   Downtown             1529.59               3.0\n",
      "10   Central              846.41               8.0\n",
      "11  Suburban             1803.88               4.0\n",
      "12    Uptown             1225.50               3.0\n",
      "13   Central             4683.64               1.0\n",
      "14  Downtown             4136.54               1.0\n",
      "15  Suburban             3350.32               2.0\n",
      "16   Central             4421.57               3.0\n",
      "17   Central             4116.52               4.0\n",
      "18  Suburban             1339.57               5.0\n",
      "19   Central             4516.52               2.0\n"
     ]
    }
   ],
   "source": [
    "# Create a ranking column for Transaction_Amount within each Branch\n",
    "banking_data['Transaction_Rank'] = banking_data.groupby('Branch')['Transaction_Amount'].rank(ascending=False)\n",
    "print(\"\\nDataset with Transaction_Rank within each Branch:\")\n",
    "print(banking_data[['Branch', 'Transaction_Amount', 'Transaction_Rank']])\n"
   ]
  },
  {
   "cell_type": "code",
   "execution_count": null,
   "id": "95f59969-9751-44ce-a240-7c7385d8c3de",
   "metadata": {},
   "outputs": [],
   "source": []
  }
 ],
 "metadata": {
  "kernelspec": {
   "display_name": "Python [conda env:base] *",
   "language": "python",
   "name": "conda-base-py"
  },
  "language_info": {
   "codemirror_mode": {
    "name": "ipython",
    "version": 3
   },
   "file_extension": ".py",
   "mimetype": "text/x-python",
   "name": "python",
   "nbconvert_exporter": "python",
   "pygments_lexer": "ipython3",
   "version": "3.12.7"
  }
 },
 "nbformat": 4,
 "nbformat_minor": 5
}
