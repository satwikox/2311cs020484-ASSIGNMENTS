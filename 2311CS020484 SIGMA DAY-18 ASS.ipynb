{
 "cells": [
  {
   "cell_type": "code",
   "execution_count": 1,
   "id": "7d7ad7e8-4681-4231-8580-162d613e39a8",
   "metadata": {},
   "outputs": [
    {
     "name": "stdout",
     "output_type": "stream",
     "text": [
      "   Booking_ID Destination  Package_Price  Customer_Age  Rating  \\\n",
      "0           1      London         1094.0          21.0     NaN   \n",
      "1           2       Paris          640.0          20.0     NaN   \n",
      "2           3   Singapore         3393.0          42.0     3.0   \n",
      "3           4      London         3555.0          40.0     4.0   \n",
      "4           5       Dubai         2130.0          44.0     2.0   \n",
      "\n",
      "           Review_Text Travel_Date  \n",
      "0  Amazing experience!  2023-01-01  \n",
      "1      Loved the trip!  2023-01-02  \n",
      "2      Could be better  2023-01-03  \n",
      "3  Amazing experience!  2023-01-04  \n",
      "4   Highly recommended  2023-01-05  \n"
     ]
    }
   ],
   "source": [
    "import pandas as pd\n",
    "import numpy as np\n",
    "import seaborn as sns\n",
    "import matplotlib.pyplot as plt\n",
    "from sklearn.impute import SimpleImputer\n",
    "\n",
    "from sklearn.preprocessing import LabelEncoder\n",
    "df = pd.read_csv(\"Day_18_Tours_and_Travels.csv\")\n",
    "print(df.head())\n"
   ]
  },
  {
   "cell_type": "code",
   "execution_count": 2,
   "id": "704c8b48-168f-44f3-ba60-5fb8597b35e1",
   "metadata": {},
   "outputs": [
    {
     "name": "stdout",
     "output_type": "stream",
     "text": [
      "Missing Values Before Handling:\n",
      " Booking_ID        0\n",
      "Destination      27\n",
      "Package_Price    20\n",
      "Customer_Age     15\n",
      "Rating           25\n",
      "Review_Text      20\n",
      "Travel_Date      10\n",
      "dtype: int64\n"
     ]
    }
   ],
   "source": [
    "print(\"Missing Values Before Handling:\\n\", df.isnull().sum())\n"
   ]
  },
  {
   "cell_type": "code",
   "execution_count": 3,
   "id": "7c2debd5-6827-4084-8157-94897820afbc",
   "metadata": {},
   "outputs": [],
   "source": [
    "df['Rating'] = df['Rating'].fillna(df['Rating'].mean())\n",
    "df['Customer_Age'] = df['Customer_Age'].fillna(df['Customer_Age'].mean())\n"
   ]
  },
  {
   "cell_type": "code",
   "execution_count": 4,
   "id": "707813b7-f714-4e6c-a1b4-6dff252c00c7",
   "metadata": {},
   "outputs": [
    {
     "data": {
      "text/html": [
       "<div>\n",
       "<style scoped>\n",
       "    .dataframe tbody tr th:only-of-type {\n",
       "        vertical-align: middle;\n",
       "    }\n",
       "\n",
       "    .dataframe tbody tr th {\n",
       "        vertical-align: top;\n",
       "    }\n",
       "\n",
       "    .dataframe thead th {\n",
       "        text-align: right;\n",
       "    }\n",
       "</style>\n",
       "<table border=\"1\" class=\"dataframe\">\n",
       "  <thead>\n",
       "    <tr style=\"text-align: right;\">\n",
       "      <th></th>\n",
       "      <th>Booking_ID</th>\n",
       "      <th>Destination</th>\n",
       "      <th>Package_Price</th>\n",
       "      <th>Customer_Age</th>\n",
       "      <th>Rating</th>\n",
       "      <th>Review_Text</th>\n",
       "      <th>Travel_Date</th>\n",
       "    </tr>\n",
       "  </thead>\n",
       "  <tbody>\n",
       "    <tr>\n",
       "      <th>0</th>\n",
       "      <td>1</td>\n",
       "      <td>London</td>\n",
       "      <td>1094.0</td>\n",
       "      <td>21.0</td>\n",
       "      <td>3.116667</td>\n",
       "      <td>Amazing experience!</td>\n",
       "      <td>2023-01-01</td>\n",
       "    </tr>\n",
       "    <tr>\n",
       "      <th>1</th>\n",
       "      <td>2</td>\n",
       "      <td>Paris</td>\n",
       "      <td>640.0</td>\n",
       "      <td>20.0</td>\n",
       "      <td>3.116667</td>\n",
       "      <td>Loved the trip!</td>\n",
       "      <td>2023-01-02</td>\n",
       "    </tr>\n",
       "    <tr>\n",
       "      <th>2</th>\n",
       "      <td>3</td>\n",
       "      <td>Singapore</td>\n",
       "      <td>3393.0</td>\n",
       "      <td>42.0</td>\n",
       "      <td>3.000000</td>\n",
       "      <td>Could be better</td>\n",
       "      <td>2023-01-03</td>\n",
       "    </tr>\n",
       "    <tr>\n",
       "      <th>3</th>\n",
       "      <td>4</td>\n",
       "      <td>London</td>\n",
       "      <td>3555.0</td>\n",
       "      <td>40.0</td>\n",
       "      <td>4.000000</td>\n",
       "      <td>Amazing experience!</td>\n",
       "      <td>2023-01-04</td>\n",
       "    </tr>\n",
       "    <tr>\n",
       "      <th>4</th>\n",
       "      <td>5</td>\n",
       "      <td>Dubai</td>\n",
       "      <td>2130.0</td>\n",
       "      <td>44.0</td>\n",
       "      <td>2.000000</td>\n",
       "      <td>Highly recommended</td>\n",
       "      <td>2023-01-05</td>\n",
       "    </tr>\n",
       "    <tr>\n",
       "      <th>...</th>\n",
       "      <td>...</td>\n",
       "      <td>...</td>\n",
       "      <td>...</td>\n",
       "      <td>...</td>\n",
       "      <td>...</td>\n",
       "      <td>...</td>\n",
       "      <td>...</td>\n",
       "    </tr>\n",
       "    <tr>\n",
       "      <th>500</th>\n",
       "      <td>441</td>\n",
       "      <td>New York</td>\n",
       "      <td>1600.0</td>\n",
       "      <td>64.0</td>\n",
       "      <td>3.000000</td>\n",
       "      <td>Highly recommended</td>\n",
       "      <td>2024-03-16</td>\n",
       "    </tr>\n",
       "    <tr>\n",
       "      <th>501</th>\n",
       "      <td>487</td>\n",
       "      <td>Dubai</td>\n",
       "      <td>2875.0</td>\n",
       "      <td>66.0</td>\n",
       "      <td>4.000000</td>\n",
       "      <td>Loved the trip!</td>\n",
       "      <td>2024-05-01</td>\n",
       "    </tr>\n",
       "    <tr>\n",
       "      <th>502</th>\n",
       "      <td>432</td>\n",
       "      <td>London</td>\n",
       "      <td>2532.0</td>\n",
       "      <td>21.0</td>\n",
       "      <td>3.000000</td>\n",
       "      <td>Amazing experience!</td>\n",
       "      <td>2024-03-07</td>\n",
       "    </tr>\n",
       "    <tr>\n",
       "      <th>503</th>\n",
       "      <td>383</td>\n",
       "      <td>Dubai</td>\n",
       "      <td>1375.0</td>\n",
       "      <td>34.0</td>\n",
       "      <td>4.000000</td>\n",
       "      <td>Highly recommended</td>\n",
       "      <td>2024-01-18</td>\n",
       "    </tr>\n",
       "    <tr>\n",
       "      <th>504</th>\n",
       "      <td>153</td>\n",
       "      <td>Paris</td>\n",
       "      <td>1391.0</td>\n",
       "      <td>18.0</td>\n",
       "      <td>1.000000</td>\n",
       "      <td>Amazing experience!</td>\n",
       "      <td>2023-06-02</td>\n",
       "    </tr>\n",
       "  </tbody>\n",
       "</table>\n",
       "<p>505 rows × 7 columns</p>\n",
       "</div>"
      ],
      "text/plain": [
       "     Booking_ID Destination  Package_Price  Customer_Age    Rating  \\\n",
       "0             1      London         1094.0          21.0  3.116667   \n",
       "1             2       Paris          640.0          20.0  3.116667   \n",
       "2             3   Singapore         3393.0          42.0  3.000000   \n",
       "3             4      London         3555.0          40.0  4.000000   \n",
       "4             5       Dubai         2130.0          44.0  2.000000   \n",
       "..          ...         ...            ...           ...       ...   \n",
       "500         441    New York         1600.0          64.0  3.000000   \n",
       "501         487       Dubai         2875.0          66.0  4.000000   \n",
       "502         432      London         2532.0          21.0  3.000000   \n",
       "503         383       Dubai         1375.0          34.0  4.000000   \n",
       "504         153       Paris         1391.0          18.0  1.000000   \n",
       "\n",
       "             Review_Text Travel_Date  \n",
       "0    Amazing experience!  2023-01-01  \n",
       "1        Loved the trip!  2023-01-02  \n",
       "2        Could be better  2023-01-03  \n",
       "3    Amazing experience!  2023-01-04  \n",
       "4     Highly recommended  2023-01-05  \n",
       "..                   ...         ...  \n",
       "500   Highly recommended  2024-03-16  \n",
       "501      Loved the trip!  2024-05-01  \n",
       "502  Amazing experience!  2024-03-07  \n",
       "503   Highly recommended  2024-01-18  \n",
       "504  Amazing experience!  2023-06-02  \n",
       "\n",
       "[505 rows x 7 columns]"
      ]
     },
     "execution_count": 4,
     "metadata": {},
     "output_type": "execute_result"
    }
   ],
   "source": [
    "df"
   ]
  },
  {
   "cell_type": "code",
   "execution_count": 5,
   "id": "1d180daa-957a-4382-8eee-edf610444783",
   "metadata": {},
   "outputs": [
    {
     "data": {
      "text/plain": [
       "0      False\n",
       "1      False\n",
       "2      False\n",
       "3      False\n",
       "4      False\n",
       "       ...  \n",
       "500    False\n",
       "501    False\n",
       "502    False\n",
       "503    False\n",
       "504    False\n",
       "Name: Rating, Length: 505, dtype: bool"
      ]
     },
     "execution_count": 5,
     "metadata": {},
     "output_type": "execute_result"
    }
   ],
   "source": [
    "df['Rating'].isna()"
   ]
  },
  {
   "cell_type": "code",
   "execution_count": 6,
   "id": "56cf8f3f-c817-4332-b04e-106b5febfa96",
   "metadata": {},
   "outputs": [
    {
     "name": "stdout",
     "output_type": "stream",
     "text": [
      "Number of duplicate rows: 5\n"
     ]
    }
   ],
   "source": [
    "duplicates = df.duplicated()\n",
    "print(f\"Number of duplicate rows: {duplicates.sum()}\")\n",
    "df = df.drop_duplicates()\n"
   ]
  },
  {
   "cell_type": "code",
   "execution_count": 7,
   "id": "94f50f94-f91f-4422-af1e-1e6416e792eb",
   "metadata": {},
   "outputs": [],
   "source": [
    "df = df[(df['Rating'] >= 1) & (df['Rating'] <= 5)]\n"
   ]
  },
  {
   "cell_type": "code",
   "execution_count": 9,
   "id": "537f1210-2856-4317-9147-432b8412ff2b",
   "metadata": {},
   "outputs": [
    {
     "name": "stdout",
     "output_type": "stream",
     "text": [
      "Requirement already satisfied: textblob in c:\\users\\admin\\anaconda3\\lib\\site-packages (0.19.0)\n",
      "Requirement already satisfied: nltk>=3.9 in c:\\users\\admin\\anaconda3\\lib\\site-packages (from textblob) (3.9.1)\n",
      "Requirement already satisfied: click in c:\\users\\admin\\anaconda3\\lib\\site-packages (from nltk>=3.9->textblob) (8.1.7)\n",
      "Requirement already satisfied: joblib in c:\\users\\admin\\anaconda3\\lib\\site-packages (from nltk>=3.9->textblob) (1.4.2)\n",
      "Requirement already satisfied: regex>=2021.8.3 in c:\\users\\admin\\anaconda3\\lib\\site-packages (from nltk>=3.9->textblob) (2024.9.11)\n",
      "Requirement already satisfied: tqdm in c:\\users\\admin\\anaconda3\\lib\\site-packages (from nltk>=3.9->textblob) (4.66.5)\n",
      "Requirement already satisfied: colorama in c:\\users\\admin\\anaconda3\\lib\\site-packages (from click->nltk>=3.9->textblob) (0.4.6)\n",
      "Note: you may need to restart the kernel to use updated packages.\n"
     ]
    }
   ],
   "source": [
    "pip install textblob"
   ]
  },
  {
   "cell_type": "code",
   "execution_count": 13,
   "id": "e93aa5f2-1abd-455f-92a1-2930edf24d89",
   "metadata": {},
   "outputs": [
    {
     "data": {
      "image/png": "[encoded data removed]",
      "text/plain": [
       "<Figure size 1200x500 with 2 Axes>"
      ]
     },
     "metadata": {},
     "output_type": "display_data"
    }
   ],
   "source": [
    "import seaborn as sns\n",
    "import matplotlib.pyplot as plt\n",
    "\n",
    "fig, axes = plt.subplots(1, 2, figsize=(12, 5))\n",
    "sns.boxplot(x=df['Package_Price'], ax=axes[0])\n",
    "sns.boxplot(x=df['Rating'], ax=axes[1])\n",
    "plt.show()\n"
   ]
  },
  {
   "cell_type": "code",
   "execution_count": 15,
   "id": "b06e3df8-25d1-4f48-93e5-5e4dc563aed5",
   "metadata": {},
   "outputs": [],
   "source": [
    "Q1 = df[['Package_Price', 'Rating']].quantile(0.25)\n",
    "Q3 = df[['Package_Price', 'Rating']].quantile(0.75)\n",
    "IQR = Q3 - Q1\n",
    "\n",
    "df = df[~((df[['Package_Price', 'Rating']] < (Q1 - 1.5 * IQR)) | (df[['Package_Price', 'Rating']] > (Q3 + 1.5 * IQR))).any(axis=1)]\n"
   ]
  },
  {
   "cell_type": "code",
   "execution_count": 19,
   "id": "8d924221-e08e-485d-bd95-e06bf295a958",
   "metadata": {},
   "outputs": [],
   "source": [
    "from sklearn.preprocessing import LabelEncoder\n",
    "\n",
    "label_encoder = LabelEncoder()\n",
    "df['Package_Price'] = label_encoder.fit_transform(df['Package_Price'])\n"
   ]
  },
  {
   "cell_type": "code",
   "execution_count": 21,
   "id": "3ae6acb5-197a-4b56-b505-a1a23fb8a7f0",
   "metadata": {},
   "outputs": [
    {
     "name": "stdout",
     "output_type": "stream",
     "text": [
      "Dataset cleaned and saved successfully!\n"
     ]
    }
   ],
   "source": [
    "df.to_csv(\"cleaned_travel_reviews.csv\", index=False)\n",
    "print(\"Dataset cleaned and saved successfully!\")\n"
   ]
  },
  {
   "cell_type": "code",
   "execution_count": null,
   "id": "67726ba6-f1be-4cf4-b7f4-492ac0921280",
   "metadata": {},
   "outputs": [],
   "source": []
  }
 ],
 "metadata": {
  "kernelspec": {
   "display_name": "Python [conda env:base] *",
   "language": "python",
   "name": "conda-base-py"
  },
  "language_info": {
   "codemirror_mode": {
    "name": "ipython",
    "version": 3
   },
   "file_extension": ".py",
   "mimetype": "text/x-python",
   "name": "python",
   "nbconvert_exporter": "python",
   "pygments_lexer": "ipython3",
   "version": "3.12.7"
  }
 },
 "nbformat": 4,
 "nbformat_minor": 5
}
