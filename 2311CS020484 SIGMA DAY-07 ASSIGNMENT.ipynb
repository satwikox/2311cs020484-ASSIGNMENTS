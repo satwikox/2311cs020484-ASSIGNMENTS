{
 "cells": [
  {
   "cell_type": "code",
   "execution_count": 35,
   "id": "7d009729-3f93-4522-b8eb-90c9bc18ac22",
   "metadata": {},
   "outputs": [],
   "source": [
    "import pandas as pd\n",
    "import numpy as np\n",
    "import pandas as pd\n",
    "from sklearn.model_selection import train_test_split\n",
    "from sklearn.linear_model import LinearRegression\n",
    "from sklearn.metrics import mean_squared_error, r2_score  # corrected 'metrics'\n",
    "import seaborn as sns\n",
    "import matplotlib.pyplot as plt\n"
   ]
  },
  {
   "cell_type": "code",
   "execution_count": 46,
   "id": "784c5dad-e475-4ff9-a7da-7baf6991ba8d",
   "metadata": {},
   "outputs": [],
   "source": [
    "# Correct file path using one of the solutions above\n",
    "data = pd.read_csv(\"C:/Users/ADMIN/OneDrive/Desktop/Day_7_sales_data.csv\")"
   ]
  },
  {
   "cell_type": "code",
   "execution_count": 50,
   "id": "96733b38-9577-44d3-928c-636ec62f62f6",
   "metadata": {},
   "outputs": [
    {
     "name": "stdout",
     "output_type": "stream",
     "text": [
      "First 5 rows of the dataset:\n",
      "         Date Product Region    Sales  Profit  Quantity\n",
      "0  2023-01-02  Tablet   East  1061.81  236.12         7\n",
      "1  2023-01-06  Laptop  North  1926.07  246.34         8\n",
      "2  2023-01-03  Tablet   East  1597.99  253.17         3\n",
      "3  2023-01-20  Tablet  North  1397.99  242.23         1\n",
      "4  2023-01-04  Laptop   West   734.03  140.36         4\n"
     ]
    }
   ],
   "source": [
    "print(\"First 5 rows of the dataset:\")\n",
    "print(data.head())"
   ]
  },
  {
   "cell_type": "code",
   "execution_count": 52,
   "id": "48c18945-b88d-49f9-a1cc-0d376d7218be",
   "metadata": {},
   "outputs": [
    {
     "name": "stdout",
     "output_type": "stream",
     "text": [
      "\n",
      "Basic statistics of numerical columns:\n",
      "             Sales      Profit   Quantity\n",
      "count    20.000000   20.000000  20.000000\n",
      "mean   1186.553000  211.533000   5.050000\n",
      "std     461.528444   66.916251   2.543826\n",
      "min     530.880000   82.160000   1.000000\n",
      "25%     774.517500  166.515000   2.750000\n",
      "50%    1104.865000  214.670000   5.000000\n",
      "75%    1571.080000  248.047500   7.250000\n",
      "max    1954.860000  364.970000   9.000000\n"
     ]
    }
   ],
   "source": [
    "print(\"\\nBasic statistics of numerical columns:\")\n",
    "print(data.describe())"
   ]
  },
  {
   "cell_type": "code",
   "execution_count": 58,
   "id": "dab0e478-dcc9-4e3a-868f-15ac96dfdcfe",
   "metadata": {},
   "outputs": [
    {
     "name": "stdout",
     "output_type": "stream",
     "text": [
      "Total Sales for Each Region:\n",
      "Region\n",
      "East      5818.93\n",
      "North    10449.68\n",
      "South      936.84\n",
      "West      6525.61\n",
      "Name: Sales, dtype: float64\n"
     ]
    }
   ],
   "source": [
    "# 1. Calculate the total sales for each region\n",
    "total_sales_by_region = data.groupby('Region')['Sales'].sum()\n",
    "print(\"Total Sales for Each Region:\")\n",
    "print(total_sales_by_region)\n"
   ]
  },
  {
   "cell_type": "code",
   "execution_count": 60,
   "id": "cfe39567-ef38-4b8b-ab93-c5085c77c50e",
   "metadata": {},
   "outputs": [
    {
     "name": "stdout",
     "output_type": "stream",
     "text": [
      "\n",
      "Most Sold Product (Based on Quantity):\n",
      "Tablet\n"
     ]
    }
   ],
   "source": [
    "\n",
    "# 2. Find the most sold product (based on quantity)\n",
    "most_sold_product = data.groupby('Product')['Quantity'].sum().idxmax()\n",
    "print(\"\\nMost Sold Product (Based on Quantity):\")\n",
    "print(most_sold_product)\n"
   ]
  },
  {
   "cell_type": "code",
   "execution_count": 62,
   "id": "ffc83036-727d-48d7-a3e9-e416b81993d9",
   "metadata": {},
   "outputs": [
    {
     "name": "stdout",
     "output_type": "stream",
     "text": [
      "\n",
      "Average Profit Margin for Each Product:\n",
      "Product\n",
      "Keyboard      20.080696\n",
      "Laptop        17.112734\n",
      "Monitor       15.134989\n",
      "Smartphone    23.703647\n",
      "Tablet        19.955758\n",
      "Name: Profit_Margin, dtype: float64\n"
     ]
    }
   ],
   "source": [
    "\n",
    "# 3. Compute the average profit margin for each product\n",
    "data['Profit_Margin'] = (data['Profit'] / data['Sales']) * 100\n",
    "avg_profit_margin_by_product = data.groupby('Product')['Profit_Margin'].mean()\n",
    "print(\"\\nAverage Profit Margin for Each Product:\")\n",
    "print(avg_profit_margin_by_product)\n"
   ]
  },
  {
   "cell_type": "code",
   "execution_count": null,
   "id": "8e9ce809-cefc-4c0a-9f85-6291dd34422b",
   "metadata": {},
   "outputs": [],
   "source": []
  }
 ],
 "metadata": {
  "kernelspec": {
   "display_name": "Python [conda env:base] *",
   "language": "python",
   "name": "conda-base-py"
  },
  "language_info": {
   "codemirror_mode": {
    "name": "ipython",
    "version": 3
   },
   "file_extension": ".py",
   "mimetype": "text/x-python",
   "name": "python",
   "nbconvert_exporter": "python",
   "pygments_lexer": "ipython3",
   "version": "3.12.7"
  }
 },
 "nbformat": 4,
 "nbformat_minor": 5
}
