{
 "cells": [
  {
   "cell_type": "code",
   "execution_count": 1,
   "id": "8ed9ec97-abc7-4b64-aa2c-84fbf657b304",
   "metadata": {},
   "outputs": [
    {
     "name": "stdout",
     "output_type": "stream",
     "text": [
      "Value of my_int: 10 and its type: <class 'int'>\n",
      "Value of my_float: 3.14 and its type: <class 'float'>\n",
      "Value of my_string: Hello, Jupyter! and its type: <class 'str'>\n",
      "Value of my_boolean: True and its type: <class 'bool'>\n"
     ]
    }
   ],
   "source": [
    "# Declaring variables of different data types\n",
    "my_int = 10  # Integer\n",
    "my_float = 3.14  # Float\n",
    "my_string = \"Hello, Jupyter!\"  # String\n",
    "my_boolean = True  # Boolean\n",
    "\n",
    "# Printing each variable and its type\n",
    "print(\"Value of my_int:\", my_int, \"and its type:\", type(my_int))\n",
    "print(\"Value of my_float:\", my_float, \"and its type:\", type(my_float))\n",
    "print(\"Value of my_string:\", my_string, \"and its type:\", type(my_string))\n",
    "print(\"Value of my_boolean:\", my_boolean, \"and its type:\", type(my_boolean))\n"
   ]
  },
  {
   "cell_type": "code",
   "execution_count": null,
   "id": "2a926d6a-eaef-43c1-bf70-49257c566705",
   "metadata": {},
   "outputs": [],
   "source": []
  }
 ],
 "metadata": {
  "kernelspec": {
   "display_name": "Python [conda env:base] *",
   "language": "python",
   "name": "conda-base-py"
  },
  "language_info": {
   "codemirror_mode": {
    "name": "ipython",
    "version": 3
   },
   "file_extension": ".py",
   "mimetype": "text/x-python",
   "name": "python",
   "nbconvert_exporter": "python",
   "pygments_lexer": "ipython3",
   "version": "3.12.7"
  }
 },
 "nbformat": 4,
 "nbformat_minor": 5
}
