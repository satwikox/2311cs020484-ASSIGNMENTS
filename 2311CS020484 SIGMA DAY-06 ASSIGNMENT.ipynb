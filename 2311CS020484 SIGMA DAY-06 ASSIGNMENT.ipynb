{
 "cells": [
  {
   "cell_type": "code",
   "execution_count": 3,
   "id": "5ef7ef07-71b0-49a8-8ea5-6d22a664740f",
   "metadata": {},
   "outputs": [
    {
     "name": "stdout",
     "output_type": "stream",
     "text": [
      "    Name  Age Department  Salary\n",
      "0   John   28         HR   45000\n",
      "1  Alice   34         IT   60000\n",
      "2    Bob   23  Marketing   35000\n",
      "3  Diana   29    Finance   50000\n"
     ]
    }
   ],
   "source": [
    "# Question-01\n",
    "\n",
    "import pandas as pd\n",
    "\n",
    "# Step 1: Create a DataFrame from the given data\n",
    "data = {\n",
    "    'Name': ['John', 'Alice', 'Bob', 'Diana'],  # Employee names\n",
    "    'Age': [28, 34, 23, 29],                    # Employee ages\n",
    "    'Department': ['HR', 'IT', 'Marketing', 'Finance'],  # Departments\n",
    "    'Salary': [45000, 60000, 35000, 50000]      # Employee salaries\n",
    "}\n",
    "\n",
    "# Convert the dictionary into a DataFrame\n",
    "df = pd.DataFrame(data)\n",
    "print(df)"
   ]
  },
  {
   "cell_type": "code",
   "execution_count": 5,
   "id": "fa877fcf-7ffd-432e-a4d6-36cb2043a0f2",
   "metadata": {},
   "outputs": [
    {
     "name": "stdout",
     "output_type": "stream",
     "text": [
      "    Name  Age Department  Salary\n",
      "0   John   28         HR   45000\n",
      "1  Alice   34         IT   60000\n"
     ]
    }
   ],
   "source": [
    "#Question-02\n",
    "#1\n",
    "print(df.head(2))  # Display the first 2 rows\n"
   ]
  },
  {
   "cell_type": "code",
   "execution_count": 7,
   "id": "2ee86985-9157-413a-b3b2-7a8844c3c603",
   "metadata": {},
   "outputs": [
    {
     "name": "stdout",
     "output_type": "stream",
     "text": [
      "    Name  Age Department  Salary   Bonus\n",
      "0   John   28         HR   45000  4500.0\n",
      "1  Alice   34         IT   60000  6000.0\n",
      "2    Bob   23  Marketing   35000  3500.0\n",
      "3  Diana   29    Finance   50000  5000.0\n"
     ]
    }
   ],
   "source": [
    "#2\n",
    "df['Bonus'] = df['Salary'] * 0.10\n",
    "print(df)\n"
   ]
  },
  {
   "cell_type": "code",
   "execution_count": 9,
   "id": "0f866c7e-0813-452e-a426-b1d92762b332",
   "metadata": {},
   "outputs": [
    {
     "name": "stdout",
     "output_type": "stream",
     "text": [
      "The average salary is: 47500.0\n"
     ]
    }
   ],
   "source": [
    "#3\n",
    "average_salary = df['Salary'].mean()\n",
    "print(f\"The average salary is: {average_salary}\")\n"
   ]
  },
  {
   "cell_type": "code",
   "execution_count": 11,
   "id": "92673acc-c8a4-4cd7-ae06-6299764f7ddc",
   "metadata": {},
   "outputs": [
    {
     "name": "stdout",
     "output_type": "stream",
     "text": [
      "    Name  Age Department  Salary   Bonus\n",
      "0   John   28         HR   45000  4500.0\n",
      "1  Alice   34         IT   60000  6000.0\n",
      "3  Diana   29    Finance   50000  5000.0\n"
     ]
    }
   ],
   "source": [
    "#4\n",
    "older_than_25 = df[df['Age'] > 25]\n",
    "print(older_than_25)\n"
   ]
  },
  {
   "cell_type": "code",
   "execution_count": null,
   "id": "b1dc2072-a06d-4b1a-90c2-9c1699ab6f26",
   "metadata": {},
   "outputs": [],
   "source": []
  },
  {
   "cell_type": "code",
   "execution_count": null,
   "id": "546675a0-8327-4034-957b-aa95de3c4bdf",
   "metadata": {},
   "outputs": [],
   "source": []
  }
 ],
 "metadata": {
  "kernelspec": {
   "display_name": "Python [conda env:base] *",
   "language": "python",
   "name": "conda-base-py"
  },
  "language_info": {
   "codemirror_mode": {
    "name": "ipython",
    "version": 3
   },
   "file_extension": ".py",
   "mimetype": "text/x-python",
   "name": "python",
   "nbconvert_exporter": "python",
   "pygments_lexer": "ipython3",
   "version": "3.12.7"
  }
 },
 "nbformat": 4,
 "nbformat_minor": 5
}
