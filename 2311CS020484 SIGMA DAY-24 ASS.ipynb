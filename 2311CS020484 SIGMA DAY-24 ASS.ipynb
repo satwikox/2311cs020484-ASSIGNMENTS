{
 "cells": [
  {
   "cell_type": "code",
   "execution_count": 13,
   "id": "73e582e2-2f50-41ba-9e8f-b00ba068d7d0",
   "metadata": {},
   "outputs": [],
   "source": [
    "import pandas as pd\n",
    "import statsmodels.api as sm\n",
    "from sklearn.linear_model import LinearRegression\n",
    "from statsmodels.stats.outliers_influence import variance_inflation_factor\n",
    "import numpy as np\n"
   ]
  },
  {
   "cell_type": "code",
   "execution_count": 15,
   "id": "b12fca79-54fb-4007-a929-a3658742fb3b",
   "metadata": {},
   "outputs": [
    {
     "data": {
      "text/html": [
       "<div>\n",
       "<style scoped>\n",
       "    .dataframe tbody tr th:only-of-type {\n",
       "        vertical-align: middle;\n",
       "    }\n",
       "\n",
       "    .dataframe tbody tr th {\n",
       "        vertical-align: top;\n",
       "    }\n",
       "\n",
       "    .dataframe thead th {\n",
       "        text-align: right;\n",
       "    }\n",
       "</style>\n",
       "<table border=\"1\" class=\"dataframe\">\n",
       "  <thead>\n",
       "    <tr style=\"text-align: right;\">\n",
       "      <th></th>\n",
       "      <th>Project_ID</th>\n",
       "      <th>Building_Height</th>\n",
       "      <th>Material_Quality_Index</th>\n",
       "      <th>Labor_Cost</th>\n",
       "      <th>Concrete_Strength</th>\n",
       "      <th>Foundation_Depth</th>\n",
       "      <th>Weather_Index</th>\n",
       "      <th>Construction_Cost</th>\n",
       "    </tr>\n",
       "  </thead>\n",
       "  <tbody>\n",
       "    <tr>\n",
       "      <th>0</th>\n",
       "      <td>1</td>\n",
       "      <td>21.854305</td>\n",
       "      <td>9</td>\n",
       "      <td>70.213332</td>\n",
       "      <td>45.326394</td>\n",
       "      <td>8.804790</td>\n",
       "      <td>4</td>\n",
       "      <td>2400.287931</td>\n",
       "    </tr>\n",
       "    <tr>\n",
       "      <th>1</th>\n",
       "      <td>2</td>\n",
       "      <td>47.782144</td>\n",
       "      <td>9</td>\n",
       "      <td>142.413614</td>\n",
       "      <td>47.900505</td>\n",
       "      <td>6.727632</td>\n",
       "      <td>6</td>\n",
       "      <td>3705.461312</td>\n",
       "    </tr>\n",
       "    <tr>\n",
       "      <th>2</th>\n",
       "      <td>3</td>\n",
       "      <td>37.939727</td>\n",
       "      <td>3</td>\n",
       "      <td>110.539985</td>\n",
       "      <td>22.112484</td>\n",
       "      <td>8.208544</td>\n",
       "      <td>8</td>\n",
       "      <td>2653.631004</td>\n",
       "    </tr>\n",
       "    <tr>\n",
       "      <th>3</th>\n",
       "      <td>4</td>\n",
       "      <td>31.939632</td>\n",
       "      <td>6</td>\n",
       "      <td>250.784939</td>\n",
       "      <td>26.267562</td>\n",
       "      <td>7.094515</td>\n",
       "      <td>4</td>\n",
       "      <td>2534.099466</td>\n",
       "    </tr>\n",
       "    <tr>\n",
       "      <th>4</th>\n",
       "      <td>5</td>\n",
       "      <td>12.020839</td>\n",
       "      <td>7</td>\n",
       "      <td>167.575159</td>\n",
       "      <td>40.134306</td>\n",
       "      <td>6.160303</td>\n",
       "      <td>6</td>\n",
       "      <td>1741.179333</td>\n",
       "    </tr>\n",
       "    <tr>\n",
       "      <th>...</th>\n",
       "      <td>...</td>\n",
       "      <td>...</td>\n",
       "      <td>...</td>\n",
       "      <td>...</td>\n",
       "      <td>...</td>\n",
       "      <td>...</td>\n",
       "      <td>...</td>\n",
       "      <td>...</td>\n",
       "    </tr>\n",
       "    <tr>\n",
       "      <th>95</th>\n",
       "      <td>96</td>\n",
       "      <td>27.220802</td>\n",
       "      <td>6</td>\n",
       "      <td>97.727758</td>\n",
       "      <td>36.181323</td>\n",
       "      <td>7.345759</td>\n",
       "      <td>4</td>\n",
       "      <td>2422.719616</td>\n",
       "    </tr>\n",
       "    <tr>\n",
       "      <th>96</th>\n",
       "      <td>97</td>\n",
       "      <td>28.522977</td>\n",
       "      <td>4</td>\n",
       "      <td>117.118714</td>\n",
       "      <td>40.518913</td>\n",
       "      <td>3.238517</td>\n",
       "      <td>4</td>\n",
       "      <td>2432.162280</td>\n",
       "    </tr>\n",
       "    <tr>\n",
       "      <th>97</th>\n",
       "      <td>98</td>\n",
       "      <td>24.239346</td>\n",
       "      <td>8</td>\n",
       "      <td>171.319969</td>\n",
       "      <td>38.475535</td>\n",
       "      <td>3.972273</td>\n",
       "      <td>8</td>\n",
       "      <td>2281.105598</td>\n",
       "    </tr>\n",
       "    <tr>\n",
       "      <th>98</th>\n",
       "      <td>99</td>\n",
       "      <td>6.143861</td>\n",
       "      <td>9</td>\n",
       "      <td>143.171717</td>\n",
       "      <td>48.316748</td>\n",
       "      <td>4.910067</td>\n",
       "      <td>4</td>\n",
       "      <td>1583.189537</td>\n",
       "    </tr>\n",
       "    <tr>\n",
       "      <th>99</th>\n",
       "      <td>100</td>\n",
       "      <td>9.855114</td>\n",
       "      <td>6</td>\n",
       "      <td>148.672867</td>\n",
       "      <td>48.327548</td>\n",
       "      <td>3.283140</td>\n",
       "      <td>5</td>\n",
       "      <td>1683.524447</td>\n",
       "    </tr>\n",
       "  </tbody>\n",
       "</table>\n",
       "<p>100 rows × 8 columns</p>\n",
       "</div>"
      ],
      "text/plain": [
       "    Project_ID  Building_Height  Material_Quality_Index  Labor_Cost  \\\n",
       "0            1        21.854305                       9   70.213332   \n",
       "1            2        47.782144                       9  142.413614   \n",
       "2            3        37.939727                       3  110.539985   \n",
       "3            4        31.939632                       6  250.784939   \n",
       "4            5        12.020839                       7  167.575159   \n",
       "..         ...              ...                     ...         ...   \n",
       "95          96        27.220802                       6   97.727758   \n",
       "96          97        28.522977                       4  117.118714   \n",
       "97          98        24.239346                       8  171.319969   \n",
       "98          99         6.143861                       9  143.171717   \n",
       "99         100         9.855114                       6  148.672867   \n",
       "\n",
       "    Concrete_Strength  Foundation_Depth  Weather_Index  Construction_Cost  \n",
       "0           45.326394          8.804790              4        2400.287931  \n",
       "1           47.900505          6.727632              6        3705.461312  \n",
       "2           22.112484          8.208544              8        2653.631004  \n",
       "3           26.267562          7.094515              4        2534.099466  \n",
       "4           40.134306          6.160303              6        1741.179333  \n",
       "..                ...               ...            ...                ...  \n",
       "95          36.181323          7.345759              4        2422.719616  \n",
       "96          40.518913          3.238517              4        2432.162280  \n",
       "97          38.475535          3.972273              8        2281.105598  \n",
       "98          48.316748          4.910067              4        1583.189537  \n",
       "99          48.327548          3.283140              5        1683.524447  \n",
       "\n",
       "[100 rows x 8 columns]"
      ]
     },
     "execution_count": 15,
     "metadata": {},
     "output_type": "execute_result"
    }
   ],
   "source": [
    "df=pd.read_csv('Civil_Engineering_Regression_Dataset.csv')\n",
    "df"
   ]
  },
  {
   "cell_type": "code",
   "execution_count": 19,
   "id": "2553f1e1-e7cd-4e4a-9448-8b1dbd992909",
   "metadata": {},
   "outputs": [],
   "source": [
    "# Let's assume the target variable is 'target' and the predictors are all other columns.\n",
    "# You need to replace 'target' and the actual predictor column names based on your dataset.\n",
    "X = df.drop(columns=['Foundation_Depth'])  # Predictor variables\n",
    "y = df['Foundation_Depth']  # Target variable"
   ]
  },
  {
   "cell_type": "code",
   "execution_count": 32,
   "id": "5bc9a5c9-0b97-4da1-ae2a-f15c048d607d",
   "metadata": {},
   "outputs": [],
   "source": [
    "# Add a constant (intercept) to the predictors for the multiple regression\n",
    "X_with_intercept = sm.add_constant(X)"
   ]
  },
  {
   "cell_type": "code",
   "execution_count": 36,
   "id": "3d7e0264-fc82-4c9d-9689-4714115e1c28",
   "metadata": {},
   "outputs": [],
   "source": [
    "# Fit Simple Linear Regression: using one predictor (replace 'predictor1' with an actual column name)\n",
    "X_simple = df[['Concrete_Strength']]  # Replace 'predictor1' with an actual column name for the simple regression model\n",
    "X_simple_with_intercept = sm.add_constant(X_simple)"
   ]
  },
  {
   "cell_type": "code",
   "execution_count": 38,
   "id": "5e7cb8bf-7862-40ba-bba8-e9e68ef13e8c",
   "metadata": {},
   "outputs": [
    {
     "name": "stdout",
     "output_type": "stream",
     "text": [
      "Simple Linear Regression R-squared: 0.00015519048320244977\n"
     ]
    }
   ],
   "source": [
    "# Fit Simple Linear Regression Model\n",
    "simple_model = sm.OLS(y, X_simple_with_intercept).fit()\n",
    "simple_r_squared = simple_model.rsquared\n",
    "print(f\"Simple Linear Regression R-squared: {simple_r_squared}\")\n"
   ]
  },
  {
   "cell_type": "code",
   "execution_count": 40,
   "id": "beb56b83-90f5-450a-bc53-69da3955590b",
   "metadata": {},
   "outputs": [
    {
     "name": "stdout",
     "output_type": "stream",
     "text": [
      "Multiple Linear Regression R-squared: 0.9817203754986649\n",
      "Multiple Linear Regression Adjusted R-squared: 0.9803295345039981\n"
     ]
    }
   ],
   "source": [
    "# Fit Multiple Linear Regression Model\n",
    "multiple_model = sm.OLS(y, X_with_intercept).fit()\n",
    "multiple_r_squared = multiple_model.rsquared\n",
    "adjusted_r_squared = multiple_model.rsquared_adj\n",
    "print(f\"Multiple Linear Regression R-squared: {multiple_r_squared}\")\n",
    "print(f\"Multiple Linear Regression Adjusted R-squared: {adjusted_r_squared}\")\n"
   ]
  },
  {
   "cell_type": "code",
   "execution_count": 42,
   "id": "0086e61f-1d9b-4570-8b3f-23d8296ab0cd",
   "metadata": {},
   "outputs": [
    {
     "name": "stdout",
     "output_type": "stream",
     "text": [
      "\n",
      "Variance Inflation Factor (VIF) for each feature:\n",
      "                  Feature        VIF\n",
      "0              Project_ID   1.091393\n",
      "1         Building_Height  86.984128\n",
      "2  Material_Quality_Index   1.360624\n",
      "3              Labor_Cost   1.244348\n",
      "4       Concrete_Strength   7.372864\n",
      "5           Weather_Index   1.055734\n",
      "6       Construction_Cost  94.054115\n"
     ]
    }
   ],
   "source": [
    "# Check for multicollinearity using Variance Inflation Factor (VIF)\n",
    "vif_data = pd.DataFrame()\n",
    "vif_data[\"Feature\"] = X.columns\n",
    "vif_data[\"VIF\"] = [variance_inflation_factor(X_with_intercept.values, i+1) for i in range(X.shape[1])]\n",
    "\n",
    "print(\"\\nVariance Inflation Factor (VIF) for each feature:\")\n",
    "print(vif_data)"
   ]
  },
  {
   "cell_type": "code",
   "execution_count": null,
   "id": "5b9af5ab-ebb8-45f6-8066-e787b3f824c1",
   "metadata": {},
   "outputs": [],
   "source": []
  }
 ],
 "metadata": {
  "kernelspec": {
   "display_name": "Python [conda env:base] *",
   "language": "python",
   "name": "conda-base-py"
  },
  "language_info": {
   "codemirror_mode": {
    "name": "ipython",
    "version": 3
   },
   "file_extension": ".py",
   "mimetype": "text/x-python",
   "name": "python",
   "nbconvert_exporter": "python",
   "pygments_lexer": "ipython3",
   "version": "3.12.7"
  }
 },
 "nbformat": 4,
 "nbformat_minor": 5
}
