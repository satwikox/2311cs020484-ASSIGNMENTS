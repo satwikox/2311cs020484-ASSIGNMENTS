{
 "cells": [
  {
   "cell_type": "code",
   "execution_count": 23,
   "id": "f5bfc2d8-098f-4497-a651-59d394da49da",
   "metadata": {},
   "outputs": [
    {
     "name": "stdin",
     "output_type": "stream",
     "text": [
      "Enter a positive integer n:  5\n"
     ]
    },
    {
     "name": "stdout",
     "output_type": "stream",
     "text": [
      "\n",
      "Numbers from 1 to n (using a for loop):\n",
      "1\n",
      "2\n",
      "3\n",
      "4\n",
      "5\n",
      "\n",
      "Sum of numbers from 1 to n (using a while loop): 15\n"
     ]
    }
   ],
   "source": [
    "#Exercise-01\n",
    "\n",
    "n = int(input(\"Enter a positive integer n: \"))\n",
    "print(\"\\nNumbers from 1 to n (using a for loop):\")\n",
    "for i in range(1, n+1):\n",
    "    print(i)\n",
    "sum=0\n",
    "i=1\n",
    "while i <= n:\n",
    "    sum += i\n",
    "    i += 1\n",
    "print(\"\\nSum of numbers from 1 to n (using a while loop):\", sum)"
   ]
  },
  {
   "cell_type": "code",
   "execution_count": 21,
   "id": "d4a36aa2-1b4a-4f4a-bd43-7a968d5f07b2",
   "metadata": {},
   "outputs": [
    {
     "name": "stdin",
     "output_type": "stream",
     "text": [
      "Enter the number 5\n"
     ]
    },
    {
     "name": "stdout",
     "output_type": "stream",
     "text": [
      "The square of  5 is : 25\n"
     ]
    }
   ],
   "source": [
    "def calculate_square(n):\n",
    "    return n*n\n",
    "n=int(input(\"Enter the number\"))\n",
    "result=(calculate_square(n))\n",
    "print(\"The square of \",n,\"is :\",result)\n"
   ]
  },
  {
   "cell_type": "code",
   "execution_count": null,
   "id": "91e9b1db-5eec-4b01-86d0-1eb19bf7f7b6",
   "metadata": {},
   "outputs": [],
   "source": []
  }
 ],
 "metadata": {
  "kernelspec": {
   "display_name": "Python [conda env:base] *",
   "language": "python",
   "name": "conda-base-py"
  },
  "language_info": {
   "codemirror_mode": {
    "name": "ipython",
    "version": 3
   },
   "file_extension": ".py",
   "mimetype": "text/x-python",
   "name": "python",
   "nbconvert_exporter": "python",
   "pygments_lexer": "ipython3",
   "version": "3.12.7"
  }
 },
 "nbformat": 4,
 "nbformat_minor": 5
}
