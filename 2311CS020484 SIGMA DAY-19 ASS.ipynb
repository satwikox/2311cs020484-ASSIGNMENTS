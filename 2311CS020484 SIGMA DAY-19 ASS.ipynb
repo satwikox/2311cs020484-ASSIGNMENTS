{
 "cells": [
  {
   "cell_type": "code",
   "execution_count": 1,
   "id": "e08c8b7f-1bd5-41c6-bcbb-825b5c83643e",
   "metadata": {},
   "outputs": [],
   "source": [
    "import pandas as pd\n",
    "import numpy as np\n",
    "import seaborn as sns\n",
    "import matplotlib.pyplot as plt\n",
    "from sklearn.impute import KNNImputer\n",
    "\n",
    "# Load dataset\n",
    "df = pd.read_csv(\"Day 19_E-Commerce_Data.csv\")  # Replace with the actual file path"
   ]
  },
  {
   "cell_type": "code",
   "execution_count": 3,
   "id": "2eb4f78a-71e7-413f-91e6-e6c58290821f",
   "metadata": {},
   "outputs": [
    {
     "data": {
      "text/html": [
       "<div>\n",
       "<style scoped>\n",
       "    .dataframe tbody tr th:only-of-type {\n",
       "        vertical-align: middle;\n",
       "    }\n",
       "\n",
       "    .dataframe tbody tr th {\n",
       "        vertical-align: top;\n",
       "    }\n",
       "\n",
       "    .dataframe thead th {\n",
       "        text-align: right;\n",
       "    }\n",
       "</style>\n",
       "<table border=\"1\" class=\"dataframe\">\n",
       "  <thead>\n",
       "    <tr style=\"text-align: right;\">\n",
       "      <th></th>\n",
       "      <th>Order_ID</th>\n",
       "      <th>Product_Category</th>\n",
       "      <th>Product_Price</th>\n",
       "      <th>Customer_Age</th>\n",
       "      <th>Rating</th>\n",
       "      <th>Review_Text</th>\n",
       "      <th>Order_Date</th>\n",
       "    </tr>\n",
       "  </thead>\n",
       "  <tbody>\n",
       "    <tr>\n",
       "      <th>0</th>\n",
       "      <td>1</td>\n",
       "      <td>Clothing</td>\n",
       "      <td>3262.0</td>\n",
       "      <td>58.0</td>\n",
       "      <td>3.0</td>\n",
       "      <td>Would not recommend</td>\n",
       "      <td>2023-01-01</td>\n",
       "    </tr>\n",
       "    <tr>\n",
       "      <th>1</th>\n",
       "      <td>2</td>\n",
       "      <td>Clothing</td>\n",
       "      <td>214.0</td>\n",
       "      <td>20.0</td>\n",
       "      <td>3.0</td>\n",
       "      <td>Excellent product!</td>\n",
       "      <td>2023-01-02</td>\n",
       "    </tr>\n",
       "    <tr>\n",
       "      <th>2</th>\n",
       "      <td>3</td>\n",
       "      <td>Home Decor</td>\n",
       "      <td>3429.0</td>\n",
       "      <td>51.0</td>\n",
       "      <td>2.0</td>\n",
       "      <td>Value for money</td>\n",
       "      <td>2023-01-03</td>\n",
       "    </tr>\n",
       "    <tr>\n",
       "      <th>3</th>\n",
       "      <td>4</td>\n",
       "      <td>Books</td>\n",
       "      <td>4568.0</td>\n",
       "      <td>35.0</td>\n",
       "      <td>3.0</td>\n",
       "      <td>Value for money</td>\n",
       "      <td>2023-01-04</td>\n",
       "    </tr>\n",
       "    <tr>\n",
       "      <th>4</th>\n",
       "      <td>5</td>\n",
       "      <td>Electronics</td>\n",
       "      <td>2237.0</td>\n",
       "      <td>32.0</td>\n",
       "      <td>4.0</td>\n",
       "      <td>Not as expected</td>\n",
       "      <td>2023-01-05</td>\n",
       "    </tr>\n",
       "    <tr>\n",
       "      <th>...</th>\n",
       "      <td>...</td>\n",
       "      <td>...</td>\n",
       "      <td>...</td>\n",
       "      <td>...</td>\n",
       "      <td>...</td>\n",
       "      <td>...</td>\n",
       "      <td>...</td>\n",
       "    </tr>\n",
       "    <tr>\n",
       "      <th>500</th>\n",
       "      <td>46</td>\n",
       "      <td>Home Decor</td>\n",
       "      <td>2965.0</td>\n",
       "      <td>41.0</td>\n",
       "      <td>4.0</td>\n",
       "      <td>Not as expected</td>\n",
       "      <td>2023-02-15</td>\n",
       "    </tr>\n",
       "    <tr>\n",
       "      <th>501</th>\n",
       "      <td>109</td>\n",
       "      <td>Home Decor</td>\n",
       "      <td>384.0</td>\n",
       "      <td>56.0</td>\n",
       "      <td>1.0</td>\n",
       "      <td>Excellent product!</td>\n",
       "      <td>2023-04-19</td>\n",
       "    </tr>\n",
       "    <tr>\n",
       "      <th>502</th>\n",
       "      <td>52</td>\n",
       "      <td>Electronics</td>\n",
       "      <td>2434.0</td>\n",
       "      <td>26.0</td>\n",
       "      <td>3.0</td>\n",
       "      <td>Value for money</td>\n",
       "      <td>2023-02-21</td>\n",
       "    </tr>\n",
       "    <tr>\n",
       "      <th>503</th>\n",
       "      <td>281</td>\n",
       "      <td>Home Decor</td>\n",
       "      <td>3093.0</td>\n",
       "      <td>24.0</td>\n",
       "      <td>3.0</td>\n",
       "      <td>NaN</td>\n",
       "      <td>2023-10-08</td>\n",
       "    </tr>\n",
       "    <tr>\n",
       "      <th>504</th>\n",
       "      <td>461</td>\n",
       "      <td>Electronics</td>\n",
       "      <td>1970.0</td>\n",
       "      <td>55.0</td>\n",
       "      <td>1.0</td>\n",
       "      <td>Fast delivery</td>\n",
       "      <td>2024-04-05</td>\n",
       "    </tr>\n",
       "  </tbody>\n",
       "</table>\n",
       "<p>505 rows × 7 columns</p>\n",
       "</div>"
      ],
      "text/plain": [
       "     Order_ID Product_Category  Product_Price  Customer_Age  Rating  \\\n",
       "0           1         Clothing         3262.0          58.0     3.0   \n",
       "1           2         Clothing          214.0          20.0     3.0   \n",
       "2           3       Home Decor         3429.0          51.0     2.0   \n",
       "3           4            Books         4568.0          35.0     3.0   \n",
       "4           5      Electronics         2237.0          32.0     4.0   \n",
       "..        ...              ...            ...           ...     ...   \n",
       "500        46       Home Decor         2965.0          41.0     4.0   \n",
       "501       109       Home Decor          384.0          56.0     1.0   \n",
       "502        52      Electronics         2434.0          26.0     3.0   \n",
       "503       281       Home Decor         3093.0          24.0     3.0   \n",
       "504       461      Electronics         1970.0          55.0     1.0   \n",
       "\n",
       "             Review_Text  Order_Date  \n",
       "0    Would not recommend  2023-01-01  \n",
       "1     Excellent product!  2023-01-02  \n",
       "2        Value for money  2023-01-03  \n",
       "3        Value for money  2023-01-04  \n",
       "4        Not as expected  2023-01-05  \n",
       "..                   ...         ...  \n",
       "500      Not as expected  2023-02-15  \n",
       "501   Excellent product!  2023-04-19  \n",
       "502      Value for money  2023-02-21  \n",
       "503                  NaN  2023-10-08  \n",
       "504        Fast delivery  2024-04-05  \n",
       "\n",
       "[505 rows x 7 columns]"
      ]
     },
     "execution_count": 3,
     "metadata": {},
     "output_type": "execute_result"
    }
   ],
   "source": [
    "df"
   ]
  },
  {
   "cell_type": "code",
   "execution_count": 5,
   "id": "e0efadee-4237-4dfa-bdb5-d862c2fef208",
   "metadata": {},
   "outputs": [
    {
     "name": "stdout",
     "output_type": "stream",
     "text": [
      "<class 'pandas.core.frame.DataFrame'>\n",
      "RangeIndex: 505 entries, 0 to 504\n",
      "Data columns (total 7 columns):\n",
      " #   Column            Non-Null Count  Dtype  \n",
      "---  ------            --------------  -----  \n",
      " 0   Order_ID          505 non-null    int64  \n",
      " 1   Product_Category  481 non-null    object \n",
      " 2   Product_Price     485 non-null    float64\n",
      " 3   Customer_Age      490 non-null    float64\n",
      " 4   Rating            480 non-null    float64\n",
      " 5   Review_Text       484 non-null    object \n",
      " 6   Order_Date        495 non-null    object \n",
      "dtypes: float64(3), int64(1), object(3)\n",
      "memory usage: 27.7+ KB\n",
      "None\n",
      "                  Missing Values  Percentage\n",
      "Order_ID                       0    0.000000\n",
      "Product_Category              24    4.752475\n",
      "Product_Price                 20    3.960396\n",
      "Customer_Age                  15    2.970297\n",
      "Rating                        25    4.950495\n",
      "Review_Text                   21    4.158416\n",
      "Order_Date                    10    1.980198\n"
     ]
    }
   ],
   "source": [
    "# Display basic info\n",
    "print(df.info())\n",
    "\n",
    "# Count missing values in each column\n",
    "missing_values = df.isna().sum()\n",
    "\n",
    "# Compute percentage of missing values\n",
    "missing_percentage = (missing_values / len(df)) * 100\n",
    "\n",
    "# Display missing values percentage\n",
    "missing_df = pd.DataFrame({'Missing Values': missing_values, 'Percentage': missing_percentage})\n",
    "print(missing_df)\n"
   ]
  },
  {
   "cell_type": "code",
   "execution_count": 7,
   "id": "585c3891-6f73-4904-b239-691448f697a7",
   "metadata": {},
   "outputs": [
    {
     "data": {
      "image/png": "[encoded data removed]",
      "text/plain": [
       "<Figure size 1000x600 with 1 Axes>"
      ]
     },
     "metadata": {},
     "output_type": "display_data"
    }
   ],
   "source": [
    "# Visualizing missing values\n",
    "plt.figure(figsize=(10, 6))\n",
    "sns.heatmap(df.isna(), cmap=\"viridis\", cbar=False, yticklabels=False)\n",
    "plt.title(\"Missing Data Heatmap\")\n",
    "plt.show()\n"
   ]
  },
  {
   "cell_type": "code",
   "execution_count": 13,
   "id": "0926e0af-7f21-4509-a781-9303f52dcb54",
   "metadata": {},
   "outputs": [],
   "source": [
    "df['Product_Price'] = df['Product_Price'].fillna(df['Product_Price'].mean())\n"
   ]
  },
  {
   "cell_type": "code",
   "execution_count": 17,
   "id": "2132faf5-9528-487e-9928-7fecf25b70d1",
   "metadata": {},
   "outputs": [],
   "source": [
    "df['Product_Category'] = df['Product_Category'].fillna(df['Product_Category'].mode()[0])\n"
   ]
  },
  {
   "cell_type": "code",
   "execution_count": 19,
   "id": "9f283c3d-7fe8-4648-9206-6a0dd4623971",
   "metadata": {},
   "outputs": [
    {
     "data": {
      "text/plain": [
       "0      3262.0\n",
       "1       214.0\n",
       "2      3429.0\n",
       "3      4568.0\n",
       "4      2237.0\n",
       "        ...  \n",
       "500    2965.0\n",
       "501     384.0\n",
       "502    2434.0\n",
       "503    3093.0\n",
       "504    1970.0\n",
       "Name: Product_Price, Length: 505, dtype: float64"
      ]
     },
     "execution_count": 19,
     "metadata": {},
     "output_type": "execute_result"
    }
   ],
   "source": [
    "df['Product_Price']"
   ]
  },
  {
   "cell_type": "code",
   "execution_count": 21,
   "id": "5fbec806-7bb5-41e0-98d1-7f62634d90f1",
   "metadata": {},
   "outputs": [
    {
     "data": {
      "text/plain": [
       "0         Clothing\n",
       "1         Clothing\n",
       "2       Home Decor\n",
       "3            Books\n",
       "4      Electronics\n",
       "          ...     \n",
       "500     Home Decor\n",
       "501     Home Decor\n",
       "502    Electronics\n",
       "503     Home Decor\n",
       "504    Electronics\n",
       "Name: Product_Category, Length: 505, dtype: object"
      ]
     },
     "execution_count": 21,
     "metadata": {},
     "output_type": "execute_result"
    }
   ],
   "source": [
    "df['Product_Category']"
   ]
  },
  {
   "cell_type": "code",
   "execution_count": 25,
   "id": "64831071-8566-4ab9-93f9-f35844a66d4d",
   "metadata": {},
   "outputs": [],
   "source": [
    "df['Order_Date'] = df['Order_Date'].ffill()  # Forward fill\n"
   ]
  },
  {
   "cell_type": "code",
   "execution_count": 27,
   "id": "9d9245df-1e31-481f-b9a6-9ad6f8e8ce3a",
   "metadata": {},
   "outputs": [
    {
     "data": {
      "text/plain": [
       "0      2023-01-01\n",
       "1      2023-01-02\n",
       "2      2023-01-03\n",
       "3      2023-01-04\n",
       "4      2023-01-05\n",
       "          ...    \n",
       "500    2023-02-15\n",
       "501    2023-04-19\n",
       "502    2023-02-21\n",
       "503    2023-10-08\n",
       "504    2024-04-05\n",
       "Name: Order_Date, Length: 505, dtype: object"
      ]
     },
     "execution_count": 27,
     "metadata": {},
     "output_type": "execute_result"
    }
   ],
   "source": [
    "df['Order_Date']"
   ]
  },
  {
   "cell_type": "code",
   "execution_count": 29,
   "id": "f45da8f7-cfe0-4ba3-a083-e035414c4a15",
   "metadata": {},
   "outputs": [],
   "source": [
    "# Selecting numerical columns for KNN imputation\n",
    "num_cols = df.select_dtypes(include=[np.number]).columns\n",
    "\n",
    "# Applying KNN Imputer\n",
    "imputer = KNNImputer(n_neighbors=5)\n",
    "df[num_cols] = imputer.fit_transform(df[num_cols])"
   ]
  },
  {
   "cell_type": "code",
   "execution_count": 31,
   "id": "5d964ca4-591a-4f1a-b69d-2480fb0e644a",
   "metadata": {},
   "outputs": [
    {
     "name": "stdout",
     "output_type": "stream",
     "text": [
      "Before Imputation:\n",
      "         Order_ID  Product_Price  Customer_Age      Rating\n",
      "count  505.000000     505.000000    505.000000  505.000000\n",
      "mean   249.899010    2442.748515     42.194455    3.202772\n",
      "std    144.769438    1387.499472     14.721617    1.122317\n",
      "min      1.000000     108.000000     18.000000    1.000000\n",
      "25%    124.000000    1292.000000     30.000000    2.400000\n",
      "50%    250.000000    2464.000000     41.000000    3.000000\n",
      "75%    375.000000    3588.000000     54.000000    4.000000\n",
      "max    500.000000    4993.000000     69.000000    5.000000\n",
      "\n",
      "After Imputation:\n",
      "         Order_ID  Product_Price  Customer_Age      Rating\n",
      "count  505.000000     505.000000    505.000000  505.000000\n",
      "mean   249.899010    2442.748515     42.194455    3.202772\n",
      "std    144.769438    1387.499472     14.721617    1.122317\n",
      "min      1.000000     108.000000     18.000000    1.000000\n",
      "25%    124.000000    1292.000000     30.000000    2.400000\n",
      "50%    250.000000    2464.000000     41.000000    3.000000\n",
      "75%    375.000000    3588.000000     54.000000    4.000000\n",
      "max    500.000000    4993.000000     69.000000    5.000000\n"
     ]
    }
   ],
   "source": [
    "# Before imputation (original summary)\n",
    "print(\"Before Imputation:\")\n",
    "print(df.describe())\n",
    "\n",
    "# After imputation (new summary)\n",
    "print(\"\\nAfter Imputation:\")\n",
    "print(df.describe())\n"
   ]
  },
  {
   "cell_type": "code",
   "execution_count": 33,
   "id": "095d2057-bffd-4560-836d-32f24a32ab5e",
   "metadata": {},
   "outputs": [
    {
     "data": {
      "image/png": "[encoded data removed]",
      "text/plain": [
       "<Figure size 1200x600 with 1 Axes>"
      ]
     },
     "metadata": {},
     "output_type": "display_data"
    },
    {
     "data": {
      "image/png": "[encoded data removed]",
      "text/plain": [
       "<Figure size 800x500 with 1 Axes>"
      ]
     },
     "metadata": {},
     "output_type": "display_data"
    }
   ],
   "source": [
    "# Histogram comparison\n",
    "plt.figure(figsize=(12, 6))\n",
    "sns.histplot(df['Product_Price'], bins=30, kde=True, color='blue')\n",
    "plt.title(\"Distribution of Product Price After Imputation\")\n",
    "plt.show()\n",
    "\n",
    "# Boxplot for outlier detection\n",
    "plt.figure(figsize=(8, 5))\n",
    "sns.boxplot(x=df['Product_Price'])\n",
    "plt.title(\"Boxplot of Product Price After Imputation\")\n",
    "plt.show()\n"
   ]
  },
  {
   "cell_type": "code",
   "execution_count": 35,
   "id": "e8030903-b85a-49e9-bd1d-017a66dbead8",
   "metadata": {},
   "outputs": [],
   "source": [
    "df.to_csv(\"cleaned_ecommerce_orders.csv\", index=False)\n"
   ]
  },
  {
   "cell_type": "code",
   "execution_count": 37,
   "id": "02e492d4-53bd-42b3-b4a0-d9462bb9c5b4",
   "metadata": {},
   "outputs": [
    {
     "data": {
      "text/html": [
       "<div>\n",
       "<style scoped>\n",
       "    .dataframe tbody tr th:only-of-type {\n",
       "        vertical-align: middle;\n",
       "    }\n",
       "\n",
       "    .dataframe tbody tr th {\n",
       "        vertical-align: top;\n",
       "    }\n",
       "\n",
       "    .dataframe thead th {\n",
       "        text-align: right;\n",
       "    }\n",
       "</style>\n",
       "<table border=\"1\" class=\"dataframe\">\n",
       "  <thead>\n",
       "    <tr style=\"text-align: right;\">\n",
       "      <th></th>\n",
       "      <th>Order_ID</th>\n",
       "      <th>Product_Category</th>\n",
       "      <th>Product_Price</th>\n",
       "      <th>Customer_Age</th>\n",
       "      <th>Rating</th>\n",
       "      <th>Review_Text</th>\n",
       "      <th>Order_Date</th>\n",
       "    </tr>\n",
       "  </thead>\n",
       "  <tbody>\n",
       "    <tr>\n",
       "      <th>0</th>\n",
       "      <td>1.0</td>\n",
       "      <td>Clothing</td>\n",
       "      <td>3262.0</td>\n",
       "      <td>58.0</td>\n",
       "      <td>3.0</td>\n",
       "      <td>Would not recommend</td>\n",
       "      <td>2023-01-01</td>\n",
       "    </tr>\n",
       "    <tr>\n",
       "      <th>1</th>\n",
       "      <td>2.0</td>\n",
       "      <td>Clothing</td>\n",
       "      <td>214.0</td>\n",
       "      <td>20.0</td>\n",
       "      <td>3.0</td>\n",
       "      <td>Excellent product!</td>\n",
       "      <td>2023-01-02</td>\n",
       "    </tr>\n",
       "    <tr>\n",
       "      <th>2</th>\n",
       "      <td>3.0</td>\n",
       "      <td>Home Decor</td>\n",
       "      <td>3429.0</td>\n",
       "      <td>51.0</td>\n",
       "      <td>2.0</td>\n",
       "      <td>Value for money</td>\n",
       "      <td>2023-01-03</td>\n",
       "    </tr>\n",
       "    <tr>\n",
       "      <th>3</th>\n",
       "      <td>4.0</td>\n",
       "      <td>Books</td>\n",
       "      <td>4568.0</td>\n",
       "      <td>35.0</td>\n",
       "      <td>3.0</td>\n",
       "      <td>Value for money</td>\n",
       "      <td>2023-01-04</td>\n",
       "    </tr>\n",
       "    <tr>\n",
       "      <th>4</th>\n",
       "      <td>5.0</td>\n",
       "      <td>Electronics</td>\n",
       "      <td>2237.0</td>\n",
       "      <td>32.0</td>\n",
       "      <td>4.0</td>\n",
       "      <td>Not as expected</td>\n",
       "      <td>2023-01-05</td>\n",
       "    </tr>\n",
       "    <tr>\n",
       "      <th>...</th>\n",
       "      <td>...</td>\n",
       "      <td>...</td>\n",
       "      <td>...</td>\n",
       "      <td>...</td>\n",
       "      <td>...</td>\n",
       "      <td>...</td>\n",
       "      <td>...</td>\n",
       "    </tr>\n",
       "    <tr>\n",
       "      <th>500</th>\n",
       "      <td>46.0</td>\n",
       "      <td>Home Decor</td>\n",
       "      <td>2965.0</td>\n",
       "      <td>41.0</td>\n",
       "      <td>4.0</td>\n",
       "      <td>Not as expected</td>\n",
       "      <td>2023-02-15</td>\n",
       "    </tr>\n",
       "    <tr>\n",
       "      <th>501</th>\n",
       "      <td>109.0</td>\n",
       "      <td>Home Decor</td>\n",
       "      <td>384.0</td>\n",
       "      <td>56.0</td>\n",
       "      <td>1.0</td>\n",
       "      <td>Excellent product!</td>\n",
       "      <td>2023-04-19</td>\n",
       "    </tr>\n",
       "    <tr>\n",
       "      <th>502</th>\n",
       "      <td>52.0</td>\n",
       "      <td>Electronics</td>\n",
       "      <td>2434.0</td>\n",
       "      <td>26.0</td>\n",
       "      <td>3.0</td>\n",
       "      <td>Value for money</td>\n",
       "      <td>2023-02-21</td>\n",
       "    </tr>\n",
       "    <tr>\n",
       "      <th>503</th>\n",
       "      <td>281.0</td>\n",
       "      <td>Home Decor</td>\n",
       "      <td>3093.0</td>\n",
       "      <td>24.0</td>\n",
       "      <td>3.0</td>\n",
       "      <td>NaN</td>\n",
       "      <td>2023-10-08</td>\n",
       "    </tr>\n",
       "    <tr>\n",
       "      <th>504</th>\n",
       "      <td>461.0</td>\n",
       "      <td>Electronics</td>\n",
       "      <td>1970.0</td>\n",
       "      <td>55.0</td>\n",
       "      <td>1.0</td>\n",
       "      <td>Fast delivery</td>\n",
       "      <td>2024-04-05</td>\n",
       "    </tr>\n",
       "  </tbody>\n",
       "</table>\n",
       "<p>505 rows × 7 columns</p>\n",
       "</div>"
      ],
      "text/plain": [
       "     Order_ID Product_Category  Product_Price  Customer_Age  Rating  \\\n",
       "0         1.0         Clothing         3262.0          58.0     3.0   \n",
       "1         2.0         Clothing          214.0          20.0     3.0   \n",
       "2         3.0       Home Decor         3429.0          51.0     2.0   \n",
       "3         4.0            Books         4568.0          35.0     3.0   \n",
       "4         5.0      Electronics         2237.0          32.0     4.0   \n",
       "..        ...              ...            ...           ...     ...   \n",
       "500      46.0       Home Decor         2965.0          41.0     4.0   \n",
       "501     109.0       Home Decor          384.0          56.0     1.0   \n",
       "502      52.0      Electronics         2434.0          26.0     3.0   \n",
       "503     281.0       Home Decor         3093.0          24.0     3.0   \n",
       "504     461.0      Electronics         1970.0          55.0     1.0   \n",
       "\n",
       "             Review_Text  Order_Date  \n",
       "0    Would not recommend  2023-01-01  \n",
       "1     Excellent product!  2023-01-02  \n",
       "2        Value for money  2023-01-03  \n",
       "3        Value for money  2023-01-04  \n",
       "4        Not as expected  2023-01-05  \n",
       "..                   ...         ...  \n",
       "500      Not as expected  2023-02-15  \n",
       "501   Excellent product!  2023-04-19  \n",
       "502      Value for money  2023-02-21  \n",
       "503                  NaN  2023-10-08  \n",
       "504        Fast delivery  2024-04-05  \n",
       "\n",
       "[505 rows x 7 columns]"
      ]
     },
     "execution_count": 37,
     "metadata": {},
     "output_type": "execute_result"
    }
   ],
   "source": [
    "df"
   ]
  },
  {
   "cell_type": "code",
   "execution_count": null,
   "id": "6b3365b7-b9e1-4d56-a003-39e7b6730a68",
   "metadata": {},
   "outputs": [],
   "source": []
  }
 ],
 "metadata": {
  "kernelspec": {
   "display_name": "Python [conda env:base] *",
   "language": "python",
   "name": "conda-base-py"
  },
  "language_info": {
   "codemirror_mode": {
    "name": "ipython",
    "version": 3
   },
   "file_extension": ".py",
   "mimetype": "text/x-python",
   "name": "python",
   "nbconvert_exporter": "python",
   "pygments_lexer": "ipython3",
   "version": "3.12.7"
  }
 },
 "nbformat": 4,
 "nbformat_minor": 5
}
