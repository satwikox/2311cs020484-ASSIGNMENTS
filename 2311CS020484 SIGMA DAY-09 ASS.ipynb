{
 "cells": [
  {
   "cell_type": "markdown",
   "id": "2618a05b-443e-4624-a614-702b8c6aeedb",
   "metadata": {},
   "source": [
    "## ASSIGNMENT-01"
   ]
  },
  {
   "cell_type": "code",
   "execution_count": 3,
   "id": "6ac3ef45-8c9f-4b50-97db-328194412087",
   "metadata": {},
   "outputs": [],
   "source": [
    "import pandas as pd\n"
   ]
  },
  {
   "cell_type": "code",
   "execution_count": 21,
   "id": "af64684c-19ca-426c-b9f3-167b6e53422d",
   "metadata": {},
   "outputs": [],
   "source": [
    "fp='C:/Users/ADMIN/Downloads/Day_9_banking_data.csv'\n",
    "banking_data=pd.read_csv(fp)"
   ]
  },
  {
   "cell_type": "code",
   "execution_count": 23,
   "id": "70116f69-81d0-47a8-8a54-16b3fca98a00",
   "metadata": {},
   "outputs": [
    {
     "name": "stdout",
     "output_type": "stream",
     "text": [
      "First 5 rows of the dataset:\n",
      "         Date       Account_Type    Branch Transaction_Type  \\\n",
      "0  2023-01-19      Fixed Deposit   Central     Loan Payment   \n",
      "1  2023-01-16            Current    Uptown       Withdrawal   \n",
      "2  2023-01-10            Current    Uptown     Loan Payment   \n",
      "3  2023-01-18            Savings    Uptown     Loan Payment   \n",
      "4  2023-01-14  Recurring Deposit  Suburban     Loan Payment   \n",
      "\n",
      "   Transaction_Amount  Account_Balance  \n",
      "0              985.51          6839.59  \n",
      "1              641.43          8908.39  \n",
      "2             3363.85         12428.67  \n",
      "3             1914.60          5776.63  \n",
      "4             2788.57          4779.04  \n"
     ]
    }
   ],
   "source": [
    "# Display the first 5 rows of the dataset\n",
    "print(\"First 5 rows of the dataset:\")\n",
    "print(banking_data.head())"
   ]
  },
  {
   "cell_type": "code",
   "execution_count": 25,
   "id": "aa0b060a-38c7-49d7-a358-07fea7c89dbe",
   "metadata": {},
   "outputs": [
    {
     "name": "stdout",
     "output_type": "stream",
     "text": [
      "\n",
      "Basic statistics of numerical columns:\n",
      "       Transaction_Amount  Account_Balance\n",
      "count           20.000000        20.000000\n",
      "mean          2705.829500      7967.766500\n",
      "std           1429.829787      2770.248821\n",
      "min            641.430000      2592.160000\n",
      "25%           1482.085000      6460.127500\n",
      "50%           2567.645000      7905.275000\n",
      "75%           4121.525000      9127.702500\n",
      "max           4683.640000     12836.510000\n"
     ]
    }
   ],
   "source": [
    "# Generate basic statistics of numerical columns\n",
    "print(\"\\nBasic statistics of numerical columns:\")\n",
    "print(banking_data.describe())"
   ]
  },
  {
   "cell_type": "code",
   "execution_count": 30,
   "id": "9d0d50da-e7a1-4d04-b31d-42fc5f29110c",
   "metadata": {},
   "outputs": [
    {
     "name": "stdout",
     "output_type": "stream",
     "text": [
      "\n",
      "Missing values in the dataset:\n",
      "Date                  0\n",
      "Account_Type          0\n",
      "Branch                0\n",
      "Transaction_Type      0\n",
      "Transaction_Amount    0\n",
      "Account_Balance       0\n",
      "dtype: int64\n"
     ]
    }
   ],
   "source": [
    "# Check for missing values\n",
    "print(\"\\nMissing values in the dataset:\")\n",
    "print(banking_data.isnull().sum())"
   ]
  },
  {
   "cell_type": "markdown",
   "id": "e333e16d-648c-4970-805f-d51c650a1806",
   "metadata": {},
   "source": [
    "## ASSIGNMENT-02"
   ]
  },
  {
   "cell_type": "code",
   "execution_count": 33,
   "id": "8fdba61f-ccc7-4282-b8f2-42e8f09a26e3",
   "metadata": {},
   "outputs": [],
   "source": [
    "import pandas as pd\n"
   ]
  },
  {
   "cell_type": "code",
   "execution_count": 35,
   "id": "22636806-155d-4b1e-862e-51fa9441114b",
   "metadata": {},
   "outputs": [],
   "source": [
    "fp='C:/Users/ADMIN/Downloads/Day_9_banking_data.csv'\n",
    "banking_data=pd.read_csv(fp)"
   ]
  },
  {
   "cell_type": "code",
   "execution_count": 41,
   "id": "3ff704eb-c93f-4e3c-ad56-926939286990",
   "metadata": {},
   "outputs": [
    {
     "name": "stdout",
     "output_type": "stream",
     "text": [
      "Aggregations by Account_Type:\n",
      "                   Total_Transaction_Amount  Average_Account_Balance\n",
      "Account_Type                                                        \n",
      "Current                            15052.57              9893.404000\n",
      "Fixed Deposit                      14102.59              6120.380000\n",
      "Recurring Deposit                  15179.99              7627.283333\n",
      "Savings                             9781.44              9134.110000\n"
     ]
    }
   ],
   "source": [
    "# Group by Account_Type and calculate required aggregations\n",
    "account_group = banking_data.groupby('Account_Type').agg({\n",
    "    'Transaction_Amount': 'sum',         # Total sum of Transaction_Amount\n",
    "    'Account_Balance': 'mean'           # Average Account_Balance\n",
    "}).rename(columns={\n",
    "    'Transaction_Amount': 'Total_Transaction_Amount',\n",
    "    'Account_Balance': 'Average_Account_Balance'\n",
    "})\n",
    "print(\"Aggregations by Account_Type:\")\n",
    "print(account_group)"
   ]
  },
  {
   "cell_type": "code",
   "execution_count": 45,
   "id": "7b6bec75-8ef8-4d96-8719-13334de3085d",
   "metadata": {},
   "outputs": [
    {
     "name": "stdout",
     "output_type": "stream",
     "text": [
      "\n",
      "Aggregations by Branch:\n",
      "          Total_Transactions  Average_Transaction_Amount\n",
      "Branch                                                  \n",
      "Central                    8                 2942.338750\n",
      "Downtown                   3                 3188.703333\n",
      "Suburban                   5                 2773.278000\n",
      "Uptown                     4                 1786.345000\n"
     ]
    }
   ],
   "source": [
    "# Group by Branch and calculate required aggregations\n",
    "branch_group = banking_data.groupby('Branch').agg({\n",
    "    'Transaction_Amount': ['count', 'mean']  # Count of transactions and average Transaction_Amount\n",
    "}).rename(columns={\n",
    "    'count': 'Total_Transactions',\n",
    "    'mean': 'Average_Transaction_Amount'\n",
    "})\n",
    "# Flatten the multi-level column names\n",
    "branch_group.columns = ['Total_Transactions', 'Average_Transaction_Amount']\n",
    "print(\"\\nAggregations by Branch:\")\n",
    "print(branch_group)"
   ]
  },
  {
   "cell_type": "code",
   "execution_count": null,
   "id": "a8191c5d-162e-4bd2-9a01-76a390ed10b6",
   "metadata": {},
   "outputs": [],
   "source": []
  }
 ],
 "metadata": {
  "kernelspec": {
   "display_name": "Python [conda env:base] *",
   "language": "python",
   "name": "conda-base-py"
  },
  "language_info": {
   "codemirror_mode": {
    "name": "ipython",
    "version": 3
   },
   "file_extension": ".py",
   "mimetype": "text/x-python",
   "name": "python",
   "nbconvert_exporter": "python",
   "pygments_lexer": "ipython3",
   "version": "3.12.7"
  }
 },
 "nbformat": 4,
 "nbformat_minor": 5
}
