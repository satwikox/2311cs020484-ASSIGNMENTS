{
 "cells": [
  {
   "cell_type": "code",
   "execution_count": 3,
   "id": "cb96efc5-23ee-4389-b415-3211d821ebd5",
   "metadata": {},
   "outputs": [],
   "source": [
    "import pandas as pd\n",
    "\n"
   ]
  },
  {
   "cell_type": "code",
   "execution_count": 9,
   "id": "f3fa12ff-7278-4a9b-a82a-4ea502d037c7",
   "metadata": {},
   "outputs": [],
   "source": [
    "data = pd.read_csv('C:/Users/ADMIN/Downloads/Day_8_sales_data.csv')"
   ]
  },
  {
   "cell_type": "code",
   "execution_count": 11,
   "id": "6e6d7c54-03dc-43dd-b0cc-7acafcc3b322",
   "metadata": {},
   "outputs": [
    {
     "name": "stdout",
     "output_type": "stream",
     "text": [
      "Sales Records with Sales Greater Than 1000:\n",
      "          Date     Product Region    Sales  Profit  Quantity\n",
      "0   2023-01-02      Tablet   East  1061.81  236.12         7\n",
      "1   2023-01-06      Laptop  North  1926.07  246.34         8\n",
      "2   2023-01-03      Tablet   East  1597.99  253.17         3\n",
      "3   2023-01-20      Tablet  North  1397.99  242.23         1\n",
      "7   2023-01-07  Smartphone   East  1799.26  364.97         4\n",
      "8   2023-01-11  Smartphone   West  1401.67  306.24         2\n",
      "9   2023-01-01      Laptop  North  1562.11  170.72         6\n",
      "11  2023-01-12      Laptop   West  1954.86  262.16         4\n",
      "12  2023-01-09     Monitor  North  1748.66  197.62         6\n",
      "17  2023-01-18     Monitor   West  1287.13  153.86         7\n",
      "18  2023-01-13      Tablet   West  1147.92  271.88         9\n"
     ]
    }
   ],
   "source": [
    "sales_above_1000 = data[data['Sales'] > 1000]\n",
    "print(\"Sales Records with Sales Greater Than 1000:\")\n",
    "print(sales_above_1000)\n"
   ]
  },
  {
   "cell_type": "code",
   "execution_count": 13,
   "id": "0bb06022-e30b-41c0-8786-79f61aa02064",
   "metadata": {},
   "outputs": [
    {
     "name": "stdout",
     "output_type": "stream",
     "text": [
      "\n",
      "Sales Records for East Region:\n",
      "          Date     Product Region    Sales  Profit  Quantity\n",
      "0   2023-01-02      Tablet   East  1061.81  236.12         7\n",
      "2   2023-01-03      Tablet   East  1597.99  253.17         3\n",
      "6   2023-01-14    Keyboard   East   587.13   82.16         8\n",
      "7   2023-01-07  Smartphone   East  1799.26  364.97         4\n",
      "14  2023-01-08      Laptop   East   772.74  226.51         2\n"
     ]
    }
   ],
   "source": [
    "east_region_sales = data[data['Region'] == 'East']\n",
    "print(\"\\nSales Records for East Region:\")\n",
    "print(east_region_sales)\n"
   ]
  },
  {
   "cell_type": "code",
   "execution_count": 15,
   "id": "9591f555-16f9-4ee7-b884-728f934d6442",
   "metadata": {},
   "outputs": [
    {
     "name": "stdout",
     "output_type": "stream",
     "text": [
      "\n",
      "Data with Profit Per Unit:\n",
      "       Product  Profit  Quantity  Profit_Per_Unit\n",
      "0       Tablet  236.12         7        33.731429\n",
      "1       Laptop  246.34         8        30.792500\n",
      "2       Tablet  253.17         3        84.390000\n",
      "3       Tablet  242.23         1       242.230000\n",
      "4       Laptop  140.36         4        35.090000\n",
      "5       Tablet  188.66         2        94.330000\n",
      "6     Keyboard   82.16         8        10.270000\n",
      "7   Smartphone  364.97         4        91.242500\n",
      "8   Smartphone  306.24         2       153.120000\n",
      "9       Laptop  170.72         6        28.453333\n",
      "10     Monitor  117.59         6        19.598333\n",
      "11      Laptop  262.16         4        65.540000\n",
      "12     Monitor  197.62         6        32.936667\n",
      "13  Smartphone  237.19         2       118.595000\n",
      "14      Laptop  226.51         2       113.255000\n",
      "15    Keyboard  202.83         4        50.707500\n",
      "16      Tablet  153.90         8        19.237500\n",
      "17     Monitor  153.86         7        21.980000\n",
      "18      Tablet  271.88         9        30.208889\n",
      "19      Tablet  176.15         8        22.018750\n"
     ]
    }
   ],
   "source": [
    "data['Profit_Per_Unit'] = data['Profit'] / data['Quantity']\n",
    "print(\"\\nData with Profit Per Unit:\")\n",
    "print(data[['Product', 'Profit', 'Quantity', 'Profit_Per_Unit']])\n"
   ]
  },
  {
   "cell_type": "code",
   "execution_count": 17,
   "id": "7752d512-ce2e-43f6-b4b5-0fd975684886",
   "metadata": {},
   "outputs": [
    {
     "name": "stdout",
     "output_type": "stream",
     "text": [
      "\n",
      "Data with High Sales Column:\n",
      "       Product    Sales High_Sales\n",
      "0       Tablet  1061.81        Yes\n",
      "1       Laptop  1926.07        Yes\n",
      "2       Tablet  1597.99        Yes\n",
      "3       Tablet  1397.99        Yes\n",
      "4       Laptop   734.03         No\n",
      "5       Tablet   733.99         No\n",
      "6     Keyboard   587.13         No\n",
      "7   Smartphone  1799.26        Yes\n",
      "8   Smartphone  1401.67        Yes\n",
      "9       Laptop  1562.11        Yes\n",
      "10     Monitor   530.88         No\n",
      "11      Laptop  1954.86        Yes\n",
      "12     Monitor  1748.66        Yes\n",
      "13  Smartphone   818.51         No\n",
      "14      Laptop   772.74         No\n",
      "15    Keyboard   775.11         No\n",
      "16      Tablet   956.36         No\n",
      "17     Monitor  1287.13        Yes\n",
      "18      Tablet  1147.92        Yes\n",
      "19      Tablet   936.84         No\n"
     ]
    }
   ],
   "source": [
    "import numpy as np\n",
    "data['High_Sales'] = np.where(data['Sales'] > 1000, 'Yes', 'No')\n",
    "print(\"\\nData with High Sales Column:\")\n",
    "print(data[['Product', 'Sales', 'High_Sales']])\n"
   ]
  },
  {
   "cell_type": "code",
   "execution_count": null,
   "id": "dc4ceaf0-7d5a-4815-8636-592243d22626",
   "metadata": {},
   "outputs": [],
   "source": []
  }
 ],
 "metadata": {
  "kernelspec": {
   "display_name": "Python [conda env:base] *",
   "language": "python",
   "name": "conda-base-py"
  },
  "language_info": {
   "codemirror_mode": {
    "name": "ipython",
    "version": 3
   },
   "file_extension": ".py",
   "mimetype": "text/x-python",
   "name": "python",
   "nbconvert_exporter": "python",
   "pygments_lexer": "ipython3",
   "version": "3.12.7"
  }
 },
 "nbformat": 4,
 "nbformat_minor": 5
}
